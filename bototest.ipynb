{
 "cells": [
  {
   "cell_type": "code",
   "execution_count": 8,
   "metadata": {},
   "outputs": [
    {
     "name": "stdout",
     "output_type": "stream",
     "text": [
      "File queue/slap_of_god.mp4 downloaded successfully from bucket sd-kaleidoscope to s3vid.mp4.\n",
      "File uploaded successfully to sd-kaleidoscope/downloads/user1/slapupload.mp4\n"
     ]
    },
    {
     "data": {
      "text/plain": [
       "True"
      ]
     },
     "execution_count": 8,
     "metadata": {},
     "output_type": "execute_result"
    }
   ],
   "source": [
    "import boto3\n",
    "\n",
    "# Initialize a session using Amazon S3 credentials\n",
    "s3_client = boto3.client(\n",
    "    's3',\n",
    "    region_name='us-east-1'\n",
    ")\n",
    "\n",
    "def download_file(bucket_name, s3_file_key, local_file_path):\n",
    "    \"\"\"\n",
    "    Download a file from an S3 bucket.\n",
    "    \n",
    "    :param bucket_name: Name of the S3 bucket.\n",
    "    :param s3_file_key: S3 object key (path to the file in S3).\n",
    "    :param local_file_path: Path to save the file on the local machine.\n",
    "    \"\"\"\n",
    "    try:\n",
    "        s3_client.download_file(bucket_name, s3_file_key, local_file_path)\n",
    "        print(f\"File {s3_file_key} downloaded successfully from bucket {bucket_name} to {local_file_path}.\")\n",
    "    except Exception as e:\n",
    "        print(f\"Error downloading file from S3: {e}\")\n",
    "\n",
    "def upload_file_to_s3(file_path, bucket_name, object_name):\n",
    "    \"\"\"\n",
    "    Uploads a file to an S3 bucket.\n",
    "\n",
    "    :param file_path: Path to the file to upload.\n",
    "    :param bucket_name: Name of the bucket to upload to.\n",
    "    :param object_name: S3 object name. This will be the key of the object in the bucket.\n",
    "    :return: True if the file was uploaded successfully, else False.\n",
    "    \"\"\"\n",
    "    # Create an S3 client\n",
    "    s3_client = boto3.client('s3')\n",
    "\n",
    "    try:\n",
    "        # Uploads the file\n",
    "        response = s3_client.upload_file(file_path, bucket_name, object_name)\n",
    "    except Exception as e:\n",
    "        print(f\"Error uploading file: {e}\")\n",
    "        return False\n",
    "    else:\n",
    "        print(f\"File uploaded successfully to {bucket_name}/{object_name}\")\n",
    "        return True\n",
    "# Example usage\n",
    "bucket_name = 'sd-kaleidoscope'\n",
    "s3_file_key = 'queue/slap_of_god.mp4'\n",
    "local_file_path = 's3vid.mp4'\n",
    "\n",
    "download_file(bucket_name, s3_file_key, local_file_path)\n",
    "object_name = 'downloads/user1/slapupload.mp4'\n",
    "upload_file_to_s3(local_file_path, bucket_name, object_name)\n"
   ]
  },
  {
   "cell_type": "code",
   "execution_count": null,
   "metadata": {},
   "outputs": [],
   "source": [
    "# ML Download\n",
    "\n",
    "# Query Firebase\n",
    "# Get string \n",
    "item = \"\"\n",
    "data = item.split('&')\n",
    "\n",
    "userID = data[0]\n",
    "file_name = data[1]\n",
    "model_type = data[2]\n",
    "\n",
    "# pull from s3 queued the datas name and remove it\n",
    "\n",
    "\n",
    "\n",
    "\n",
    "\n",
    "\n"
   ]
  }
 ],
 "metadata": {
  "interpreter": {
   "hash": "cc519da3ce3c189230b8f885e76f5692bf0f9e596ec4d40b6d81848a9042d37a"
  },
  "kernelspec": {
   "display_name": "Python 3.10.13 ('SDML')",
   "language": "python",
   "name": "python3"
  },
  "language_info": {
   "codemirror_mode": {
    "name": "ipython",
    "version": 3
   },
   "file_extension": ".py",
   "mimetype": "text/x-python",
   "name": "python",
   "nbconvert_exporter": "python",
   "pygments_lexer": "ipython3",
   "version": "3.10.13"
  },
  "orig_nbformat": 4
 },
 "nbformat": 4,
 "nbformat_minor": 2
}
